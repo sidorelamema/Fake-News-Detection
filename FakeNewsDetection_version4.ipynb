{
  "nbformat": 4,
  "nbformat_minor": 0,
  "metadata": {
    "colab": {
      "provenance": [],
      "gpuType": "T4"
    },
    "kernelspec": {
      "name": "python3",
      "display_name": "Python 3"
    },
    "language_info": {
      "name": "python"
    },
    "accelerator": "GPU",
    "gpuClass": "standard"
  },
  "cells": [
    {
      "cell_type": "code",
      "source": [
        "import sys  \n",
        "!{sys.executable} -m pip install contractions"
      ],
      "metadata": {
        "id": "y2bwy4pbi_hK",
        "colab": {
          "base_uri": "https://localhost:8080/"
        },
        "outputId": "a73cf399-b885-4d3c-939f-6f64525f1d88"
      },
      "execution_count": null,
      "outputs": [
        {
          "output_type": "stream",
          "name": "stdout",
          "text": [
            "Looking in indexes: https://pypi.org/simple, https://us-python.pkg.dev/colab-wheels/public/simple/\n",
            "Collecting contractions\n",
            "  Downloading contractions-0.1.73-py2.py3-none-any.whl (8.7 kB)\n",
            "Collecting textsearch>=0.0.21\n",
            "  Downloading textsearch-0.0.24-py2.py3-none-any.whl (7.6 kB)\n",
            "Collecting pyahocorasick\n",
            "  Downloading pyahocorasick-2.0.0-cp310-cp310-manylinux_2_5_x86_64.manylinux1_x86_64.manylinux_2_12_x86_64.manylinux2010_x86_64.whl (110 kB)\n",
            "\u001b[2K     \u001b[90m━━━━━━━━━━━━━━━━━━━━━━━━━━━━━━━━━━━━━━━\u001b[0m \u001b[32m110.8/110.8 kB\u001b[0m \u001b[31m3.6 MB/s\u001b[0m eta \u001b[36m0:00:00\u001b[0m\n",
            "\u001b[?25hCollecting anyascii\n",
            "  Downloading anyascii-0.3.2-py3-none-any.whl (289 kB)\n",
            "\u001b[2K     \u001b[90m━━━━━━━━━━━━━━━━━━━━━━━━━━━━━━━━━━━━━━\u001b[0m \u001b[32m289.9/289.9 kB\u001b[0m \u001b[31m12.4 MB/s\u001b[0m eta \u001b[36m0:00:00\u001b[0m\n",
            "\u001b[?25hInstalling collected packages: pyahocorasick, anyascii, textsearch, contractions\n",
            "Successfully installed anyascii-0.3.2 contractions-0.1.73 pyahocorasick-2.0.0 textsearch-0.0.24\n"
          ]
        }
      ]
    },
    {
      "cell_type": "code",
      "execution_count": null,
      "metadata": {
        "id": "yyT2u63KD-UL"
      },
      "outputs": [],
      "source": [
        "import pandas as pd\n",
        "import numpy as np\n",
        "import matplotlib.pyplot as plt\n",
        "import string\n",
        "import re\n",
        "import unicodedata\n",
        "import contractions\n",
        "\n",
        "import nltk\n",
        "from nltk.corpus import stopwords\n",
        "from nltk.tokenize import word_tokenize\n",
        "from nltk.stem import WordNetLemmatizer\n",
        "from nltk.stem.porter import PorterStemmer\n",
        "from nltk.tokenize import sent_tokenize, word_tokenize\n",
        "\n",
        "from sklearn import feature_extraction, linear_model, model_selection, preprocessing\n",
        "from sklearn.feature_extraction.text import CountVectorizer,TfidfVectorizer,TfidfTransformer , TfidfVectorizer\n",
        "from sklearn.model_selection import train_test_split, RepeatedStratifiedKFold, cross_val_score\n",
        "from sklearn.linear_model import LogisticRegression\n",
        "from sklearn.naive_bayes import MultinomialNB\n",
        "from sklearn.metrics import classification_report, confusion_matrix, accuracy_score\n",
        "from sklearn.metrics import f1_score\n",
        "\n",
        "import tensorflow as tf \n",
        "import keras\n",
        "from keras.preprocessing.text import Tokenizer\n",
        "#from keras.preprocessing.sequence import pad_sequences\n",
        "from keras.models import Model, Sequential\n",
        "from keras.layers import GRU, Input, Dense, Activation, RepeatVector, Bidirectional, LSTM, Dropout, Embedding\n",
        "#from keras.layers.embeddings import Embedding\n",
        "from keras.losses import sparse_categorical_crossentropy\n",
        "from keras.preprocessing import sequence\n",
        "from keras.callbacks import EarlyStopping"
      ]
    },
    {
      "cell_type": "code",
      "source": [
        "nltk.download('punkt')"
      ],
      "metadata": {
        "id": "LoDoweXjJDLV",
        "colab": {
          "base_uri": "https://localhost:8080/"
        },
        "outputId": "8955ee00-1af7-4412-8044-06925783f7ec"
      },
      "execution_count": null,
      "outputs": [
        {
          "output_type": "stream",
          "name": "stderr",
          "text": [
            "[nltk_data] Downloading package punkt to /root/nltk_data...\n",
            "[nltk_data]   Unzipping tokenizers/punkt.zip.\n"
          ]
        },
        {
          "output_type": "execute_result",
          "data": {
            "text/plain": [
              "True"
            ]
          },
          "metadata": {},
          "execution_count": 4
        }
      ]
    },
    {
      "cell_type": "code",
      "source": [
        "# Load CSV files into Colab:\n",
        "\n",
        "from google.colab import drive\n",
        "drive.mount('/content/drive')"
      ],
      "metadata": {
        "colab": {
          "base_uri": "https://localhost:8080/"
        },
        "id": "FvgZGTHhFxCy",
        "outputId": "745e97b3-3d8d-48c1-b4b2-ad2ac8cf4ad4"
      },
      "execution_count": null,
      "outputs": [
        {
          "output_type": "stream",
          "name": "stdout",
          "text": [
            "Mounted at /content/drive\n"
          ]
        }
      ]
    },
    {
      "cell_type": "code",
      "source": [
        "# Get rid of the unnamed column:\n",
        "\n",
        "path =\"/content/drive/Shareddrives/CS675 Project/data/WELFake_Dataset.csv\"\n",
        "\n",
        "df = pd.read_csv(path, index_col=0)"
      ],
      "metadata": {
        "id": "OCfjwafvGxH_"
      },
      "execution_count": null,
      "outputs": []
    },
    {
      "cell_type": "code",
      "source": [
        "# Distribution of Fake and Real News \n",
        "\n",
        "grouped_data = df.groupby('label').size()\n",
        "plt.bar(grouped_data.index, grouped_data.values, color=['red', 'green'])\n",
        "plt.xticks([0, 1], ['Fake', 'Real'])\n",
        "plt.xlabel('News Type')\n",
        "plt.ylabel('Number of Articles')\n",
        "plt.title('Distribution of Fake and Real News')\n",
        "plt.show()"
      ],
      "metadata": {
        "id": "CNdaXvPVJV0P",
        "colab": {
          "base_uri": "https://localhost:8080/",
          "height": 472
        },
        "outputId": "7084dd09-7cef-4084-b45b-ae4cd5c64de9"
      },
      "execution_count": null,
      "outputs": [
        {
          "output_type": "display_data",
          "data": {
            "text/plain": [
              "<Figure size 640x480 with 1 Axes>"
            ],
            "image/png": "[encoded data removed]"
          },
          "metadata": {}
        }
      ]
    },
    {
      "cell_type": "code",
      "source": [
        "df.isnull().sum()"
      ],
      "metadata": {
        "id": "6DZnazOYKEvn",
        "colab": {
          "base_uri": "https://localhost:8080/"
        },
        "outputId": "48defafa-9da5-4905-cc03-0158cb13dfad"
      },
      "execution_count": null,
      "outputs": [
        {
          "output_type": "execute_result",
          "data": {
            "text/plain": [
              "title    558\n",
              "text      39\n",
              "label      0\n",
              "dtype: int64"
            ]
          },
          "metadata": {},
          "execution_count": 7
        }
      ]
    },
    {
      "cell_type": "code",
      "source": [
        "# remove null values\n",
        "\n",
        "df.dropna(inplace=True)\n",
        "df.isnull().sum()"
      ],
      "metadata": {
        "id": "Lqyrnth7KPyi",
        "colab": {
          "base_uri": "https://localhost:8080/"
        },
        "outputId": "79f495b0-2f98-47b7-aedf-62f8fb37b4d6"
      },
      "execution_count": null,
      "outputs": [
        {
          "output_type": "execute_result",
          "data": {
            "text/plain": [
              "title    0\n",
              "text     0\n",
              "label    0\n",
              "dtype: int64"
            ]
          },
          "metadata": {},
          "execution_count": 8
        }
      ]
    },
    {
      "cell_type": "code",
      "source": [
        "y = df.label\n",
        "print(f'Ratio of real and fake news:')\n",
        "y.value_counts(normalize=True).rename({1: 'real', 0: 'fake'})"
      ],
      "metadata": {
        "id": "Yt1Lw5JSK273",
        "colab": {
          "base_uri": "https://localhost:8080/"
        },
        "outputId": "d7e480c6-f9f9-490e-f8d3-7643f4119b52"
      },
      "execution_count": null,
      "outputs": [
        {
          "output_type": "stream",
          "name": "stdout",
          "text": [
            "Ratio of real and fake news:\n"
          ]
        },
        {
          "output_type": "execute_result",
          "data": {
            "text/plain": [
              "real    0.510351\n",
              "fake    0.489649\n",
              "Name: label, dtype: float64"
            ]
          },
          "metadata": {},
          "execution_count": 9
        }
      ]
    },
    {
      "cell_type": "code",
      "source": [
        "# Analysis on text length\n",
        "# we are interested to know that whether the length is a discriminatory feature/factor between fake and real news category.\n",
        "\n",
        "df[\"body_len\"] = df[\"text\"].apply(lambda x: len(x) - x.count(\" \")) # remove space\n",
        "df.head()"
      ],
      "metadata": {
        "id": "F8caJ-sQRGOZ",
        "colab": {
          "base_uri": "https://localhost:8080/",
          "height": 204
        },
        "outputId": "ef0f1cfa-5a4f-4247-c7e2-c961b53399c7"
      },
      "execution_count": null,
      "outputs": [
        {
          "output_type": "execute_result",
          "data": {
            "text/plain": [
              "                                               title  \\\n",
              "0  LAW ENFORCEMENT ON HIGH ALERT Following Threat...   \n",
              "2  UNBELIEVABLE! OBAMA’S ATTORNEY GENERAL SAYS MO...   \n",
              "3  Bobby Jindal, raised Hindu, uses story of Chri...   \n",
              "4  SATAN 2: Russia unvelis an image of its terrif...   \n",
              "5  About Time! Christian Group Sues Amazon and SP...   \n",
              "\n",
              "                                                text  label  body_len  \n",
              "0  law enforcement high alert following threats c...      1      2759  \n",
              "2  unbelievable obamas attorney general says char...      1       234  \n",
              "3  bobby jindal raised hindu uses story christian...      0      4866  \n",
              "4  satan russia unvelis image terrifying new supe...      1      1211  \n",
              "5  time christian group sues amazon splc designat...      1       995  "
            ],
            "text/html": [
              "\n",
              "  <div id=\"df-3c010a22-c215-45e7-a662-d2bbec52cdfe\">\n",
              "    <div class=\"colab-df-container\">\n",
              "      <div>\n",
              "<style scoped>\n",
              "    .dataframe tbody tr th:only-of-type {\n",
              "        vertical-align: middle;\n",
              "    }\n",
              "\n",
              "    .dataframe tbody tr th {\n",
              "        vertical-align: top;\n",
              "    }\n",
              "\n",
              "    .dataframe thead th {\n",
              "        text-align: right;\n",
              "    }\n",
              "</style>\n",
              "<table border=\"1\" class=\"dataframe\">\n",
              "  <thead>\n",
              "    <tr style=\"text-align: right;\">\n",
              "      <th></th>\n",
              "      <th>title</th>\n",
              "      <th>text</th>\n",
              "      <th>label</th>\n",
              "      <th>body_len</th>\n",
              "    </tr>\n",
              "  </thead>\n",
              "  <tbody>\n",
              "    <tr>\n",
              "      <th>0</th>\n",
              "      <td>LAW ENFORCEMENT ON HIGH ALERT Following Threat...</td>\n",
              "      <td>law enforcement high alert following threats c...</td>\n",
              "      <td>1</td>\n",
              "      <td>2759</td>\n",
              "    </tr>\n",
              "    <tr>\n",
              "      <th>2</th>\n",
              "      <td>UNBELIEVABLE! OBAMA’S ATTORNEY GENERAL SAYS MO...</td>\n",
              "      <td>unbelievable obamas attorney general says char...</td>\n",
              "      <td>1</td>\n",
              "      <td>234</td>\n",
              "    </tr>\n",
              "    <tr>\n",
              "      <th>3</th>\n",
              "      <td>Bobby Jindal, raised Hindu, uses story of Chri...</td>\n",
              "      <td>bobby jindal raised hindu uses story christian...</td>\n",
              "      <td>0</td>\n",
              "      <td>4866</td>\n",
              "    </tr>\n",
              "    <tr>\n",
              "      <th>4</th>\n",
              "      <td>SATAN 2: Russia unvelis an image of its terrif...</td>\n",
              "      <td>satan russia unvelis image terrifying new supe...</td>\n",
              "      <td>1</td>\n",
              "      <td>1211</td>\n",
              "    </tr>\n",
              "    <tr>\n",
              "      <th>5</th>\n",
              "      <td>About Time! Christian Group Sues Amazon and SP...</td>\n",
              "      <td>time christian group sues amazon splc designat...</td>\n",
              "      <td>1</td>\n",
              "      <td>995</td>\n",
              "    </tr>\n",
              "  </tbody>\n",
              "</table>\n",
              "</div>\n",
              "      <button class=\"colab-df-convert\" onclick=\"convertToInteractive('df-3c010a22-c215-45e7-a662-d2bbec52cdfe')\"\n",
              "              title=\"Convert this dataframe to an interactive table.\"\n",
              "              style=\"display:none;\">\n",
              "        \n",
              "  <svg xmlns=\"http://www.w3.org/2000/svg\" height=\"24px\"viewBox=\"0 0 24 24\"\n",
              "       width=\"24px\">\n",
              "    <path d=\"M0 0h24v24H0V0z\" fill=\"none\"/>\n",
              "    <path d=\"M18.56 5.44l.94 2.06.94-2.06 2.06-.94-2.06-.94-.94-2.06-.94 2.06-2.06.94zm-11 1L8.5 8.5l.94-2.06 2.06-.94-2.06-.94L8.5 2.5l-.94 2.06-2.06.94zm10 10l.94 2.06.94-2.06 2.06-.94-2.06-.94-.94-2.06-.94 2.06-2.06.94z\"/><path d=\"M17.41 7.96l-1.37-1.37c-.4-.4-.92-.59-1.43-.59-.52 0-1.04.2-1.43.59L10.3 9.45l-7.72 7.72c-.78.78-.78 2.05 0 2.83L4 21.41c.39.39.9.59 1.41.59.51 0 1.02-.2 1.41-.59l7.78-7.78 2.81-2.81c.8-.78.8-2.07 0-2.86zM5.41 20L4 18.59l7.72-7.72 1.47 1.35L5.41 20z\"/>\n",
              "  </svg>\n",
              "      </button>\n",
              "      \n",
              "  <style>\n",
              "    .colab-df-container {\n",
              "      display:flex;\n",
              "      flex-wrap:wrap;\n",
              "      gap: 12px;\n",
              "    }\n",
              "\n",
              "    .colab-df-convert {\n",
              "      background-color: #E8F0FE;\n",
              "      border: none;\n",
              "      border-radius: 50%;\n",
              "      cursor: pointer;\n",
              "      display: none;\n",
              "      fill: #1967D2;\n",
              "      height: 32px;\n",
              "      padding: 0 0 0 0;\n",
              "      width: 32px;\n",
              "    }\n",
              "\n",
              "    .colab-df-convert:hover {\n",
              "      background-color: #E2EBFA;\n",
              "      box-shadow: 0px 1px 2px rgba(60, 64, 67, 0.3), 0px 1px 3px 1px rgba(60, 64, 67, 0.15);\n",
              "      fill: #174EA6;\n",
              "    }\n",
              "\n",
              "    [theme=dark] .colab-df-convert {\n",
              "      background-color: #3B4455;\n",
              "      fill: #D2E3FC;\n",
              "    }\n",
              "\n",
              "    [theme=dark] .colab-df-convert:hover {\n",
              "      background-color: #434B5C;\n",
              "      box-shadow: 0px 1px 3px 1px rgba(0, 0, 0, 0.15);\n",
              "      filter: drop-shadow(0px 1px 2px rgba(0, 0, 0, 0.3));\n",
              "      fill: #FFFFFF;\n",
              "    }\n",
              "  </style>\n",
              "\n",
              "      <script>\n",
              "        const buttonEl =\n",
              "          document.querySelector('#df-3c010a22-c215-45e7-a662-d2bbec52cdfe button.colab-df-convert');\n",
              "        buttonEl.style.display =\n",
              "          google.colab.kernel.accessAllowed ? 'block' : 'none';\n",
              "\n",
              "        async function convertToInteractive(key) {\n",
              "          const element = document.querySelector('#df-3c010a22-c215-45e7-a662-d2bbec52cdfe');\n",
              "          const dataTable =\n",
              "            await google.colab.kernel.invokeFunction('convertToInteractive',\n",
              "                                                     [key], {});\n",
              "          if (!dataTable) return;\n",
              "\n",
              "          const docLinkHtml = 'Like what you see? Visit the ' +\n",
              "            '<a target=\"_blank\" href=https://colab.research.google.com/notebooks/data_table.ipynb>data table notebook</a>'\n",
              "            + ' to learn more about interactive tables.';\n",
              "          element.innerHTML = '';\n",
              "          dataTable['output_type'] = 'display_data';\n",
              "          await google.colab.output.renderOutput(dataTable, element);\n",
              "          const docLink = document.createElement('div');\n",
              "          docLink.innerHTML = docLinkHtml;\n",
              "          element.appendChild(docLink);\n",
              "        }\n",
              "      </script>\n",
              "    </div>\n",
              "  </div>\n",
              "  "
            ]
          },
          "metadata": {},
          "execution_count": 20
        }
      ]
    },
    {
      "cell_type": "code",
      "source": [
        "bins = np.linspace(0, 200, 40)\n",
        "plt.hist(df[df[\"label\"]== 1][\"body_len\"], bins, alpha=0.5, label=0)\n",
        "plt.hist(df[df[\"label\"]== 0][\"body_len\"], bins, alpha=0.5, label=1)\n",
        "plt.legend(loc=\"upper left\")\n",
        "plt.show()"
      ],
      "metadata": {
        "colab": {
          "base_uri": "https://localhost:8080/",
          "height": 431
        },
        "id": "cPNjDwx4SGD0",
        "outputId": "2e03a943-822c-4e48-d5ef-da3b8a34ad78"
      },
      "execution_count": null,
      "outputs": [
        {
          "output_type": "display_data",
          "data": {
            "text/plain": [
              "<Figure size 640x480 with 1 Axes>"
            ],
            "image/png": "[encoded data removed]"
          },
          "metadata": {}
        }
      ]
    },
    {
      "cell_type": "code",
      "source": [
        "# Combining Title and Text data into one feature:\n",
        "\n",
        "df['text'] = df['title'] + ' ' + df['text']"
      ],
      "metadata": {
        "id": "pP1ByMkACQaE"
      },
      "execution_count": null,
      "outputs": []
    },
    {
      "cell_type": "code",
      "source": [
        "display(df['text'][0])"
      ],
      "metadata": {
        "colab": {
          "base_uri": "https://localhost:8080/",
          "height": 120
        },
        "id": "yuYlJ_IB9T71",
        "outputId": "037693c4-a402-4b46-aa48-e751c3cea4a8"
      },
      "execution_count": null,
      "outputs": [
        {
          "output_type": "display_data",
          "data": {
            "text/plain": [
              "'LAW ENFORCEMENT ON HIGH ALERT Following Threats Against Cops And Whites On 9-11By #BlackLivesMatter And #FYF911 Terrorists [VIDEO] No comment is expected from Barack Obama Members of the #FYF911 or #FukYoFlag and #BlackLivesMatter movements called for the lynching and hanging of white people and cops. They encouraged others on a radio show Tuesday night to  turn the tide  and kill white people and cops to send a message about the killing of black people in America.One of the F***YoFlag organizers is called  Sunshine.  She has a radio blog show hosted from Texas called,  Sunshine s F***ing Opinion Radio Show. A snapshot of her #FYF911 @LOLatWhiteFear Twitter page at 9:53 p.m. shows that she was urging supporters to  Call now!! #fyf911 tonight we continue to dismantle the illusion of white Below is a SNAPSHOT Twitter Radio Call Invite   #FYF911The radio show aired at 10:00 p.m. eastern standard time.During the show, callers clearly call for  lynching  and  killing  of white people.A 2:39 minute clip from the radio show can be heard here. It was provided to Breitbart Texas by someone who would like to be referred to as  Hannibal.  He has already received death threats as a result of interrupting #FYF911 conference calls.An unidentified black man said  when those mother f**kers are by themselves, that s when when we should start f***ing them up. Like they do us, when a bunch of them ni**ers takin  one of us out, that s how we should roll up.  He said,  Cause we already roll up in gangs anyway. There should be six or seven black mother f**ckers, see that white person, and then lynch their ass. Let s turn the tables. They conspired that if  cops started losing people,  then  there will be a state of emergency. He speculated that one of two things would happen,  a big-ass [R s?????] war,  or  ni**ers, they are going to start backin  up. We are already getting killed out here so what the f**k we got to lose? Sunshine could be heard saying,  Yep, that s true. That s so f**king true. He said,  We need to turn the tables on them. Our kids are getting shot out here. Somebody needs to become a sacrifice on their side.He said,  Everybody ain t down for that s**t, or whatever, but like I say, everybody has a different position of war.  He continued,  Because they don t give a f**k anyway.  He said again,  We might as well utilized them for that s**t and turn the tables on these n**ers. He said, that way  we can start lookin  like we ain t havin  that many casualties, and there can be more causalities on their side instead of ours. They are out their killing black people, black lives don t matter, that s what those mother f**kers   so we got to make it matter to them. Find a mother f**ker that is alone. Snap his ass, and then f***in hang him from a damn tree. Take a picture of it and then send it to the mother f**kers. We  just need one example,  and  then people will start watchin .  This will turn the tables on s**t, he said. He said this will start  a trickle-down effect.  He said that when one white person is hung and then they are just  flat-hanging,  that will start the  trickle-down effect.  He continued,  Black people are good at starting trends. He said that was how  to get the upper-hand. Another black man spoke up saying they needed to kill  cops that are killing us. The first black male said,  That will be the best method right there. Breitbart Texas previously reported how Sunshine was upset when  racist white people  infiltrated and disrupted one of her conference calls. She subsequently released the phone number of one of the infiltrators. The veteran immediately started receiving threatening calls.One of the #F***YoFlag movement supporters allegedly told a veteran who infiltrated their publicly posted conference call,  We are going to rape and gut your pregnant wife, and your f***ing piece of sh*t unborn creature will be hung from a tree. Breitbart Texas previously encountered Sunshine at a Sandra Bland protest at the Waller County Jail in Texas, where she said all white people should be killed. She told journalists and photographers,  You see this nappy-ass hair on my head?   That means I am one of those more militant Negroes.  She said she was at the protest because  these redneck mother-f**kers murdered Sandra Bland because she had nappy hair like me. #FYF911 black radicals say they will be holding the  imperial powers  that are actually responsible for the terrorist attacks on September 11th accountable on that day, as reported by Breitbart Texas. There are several websites and Twitter handles for the movement. Palmetto Star  describes himself as one of the head organizers. He said in a YouTube video that supporters will be burning their symbols of  the illusion of their superiority,  their  false white supremacy,  like the American flag, the British flag, police uniforms, and Ku Klux Klan hoods.Sierra McGrone or  Nocturnus Libertus  posted,  you too can help a young Afrikan clean their a** with the rag of oppression.  She posted two photos, one that appears to be herself, and a photo of a black man, wiping their naked butts with the American flag.For entire story: Breitbart News'"
            ],
            "application/vnd.google.colaboratory.intrinsic+json": {
              "type": "string"
            }
          },
          "metadata": {}
        }
      ]
    },
    {
      "cell_type": "code",
      "source": [
        "# Remove URL's from text:\n",
        "\n",
        "def remove_URL(text):\n",
        "    text = re.sub(r\"http\\S+\", \"\", text)\n",
        "    # text = re.sub(r\"[(http(s)?):\\/\\/(www\\.)?a-zA-Z0-9@:%._\\+~#=]{2,256}\\.[a-z]{2,6}\\b([-a-zA-Z0-9@:%_\\+.~#?&//=]*)\", \"\", text)\n",
        "    return text\n",
        "\n",
        "\n",
        "df['text'] = df['text'].apply(lambda x : remove_URL(x))"
      ],
      "metadata": {
        "id": "KdIlfsGCQLmH"
      },
      "execution_count": null,
      "outputs": []
    },
    {
      "cell_type": "code",
      "source": [
        "# Remove non-ASCII characters from text\n",
        "def remove_accented_chars(text):\n",
        "    text = unicodedata.normalize('NFKD', text).encode('ascii', 'ignore').decode('utf-8', 'ignore')\n",
        "    return text\n",
        "\n",
        "\n",
        "df['text'] = df['text'].apply(lambda x : remove_accented_chars(x))\n",
        "\n",
        "remove_accented_chars('Sómě Áccěntěd těxt')"
      ],
      "metadata": {
        "id": "ozVyC0X2VoDG",
        "colab": {
          "base_uri": "https://localhost:8080/",
          "height": 35
        },
        "outputId": "401f4169-5f84-4906-d304-5434a9cc45cd"
      },
      "execution_count": null,
      "outputs": [
        {
          "output_type": "execute_result",
          "data": {
            "text/plain": [
              "'Some Accented text'"
            ],
            "application/vnd.google.colaboratory.intrinsic+json": {
              "type": "string"
            }
          },
          "metadata": {},
          "execution_count": 11
        }
      ]
    },
    {
      "cell_type": "code",
      "source": [
        "def clean_text(text):\n",
        "   \n",
        "    text = re.sub('\\[.*?\\]', '', text)  # remove text in square brackets\n",
        "    text = re.sub('<.*?>+', '', text)  # remove html tags\n",
        "    text = re.sub('\\n', ' ', text)\n",
        "    text = re.sub('[‘’“”…]', '', text)  # remove those fancy quotes\n",
        "    text = text.lower()\n",
        "    return text\n",
        "\n",
        "\n",
        "df['text'] = df['text'].apply(lambda x : clean_text(x))"
      ],
      "metadata": {
        "id": "7VNZxuoVYHmD"
      },
      "execution_count": null,
      "outputs": []
    },
    {
      "cell_type": "code",
      "source": [
        "# Replace CONTRACTIONS\n",
        "\n",
        "df['text']  = df['text'].apply(lambda x : contractions.fix(x))\n",
        "\n",
        "print(contractions.fix(\"you've\"))\n",
        "print(contractions.fix(\"he's\"))"
      ],
      "metadata": {
        "id": "0aAipjcOWWqb",
        "colab": {
          "base_uri": "https://localhost:8080/"
        },
        "outputId": "6c84ed30-8c43-433e-8e0b-6712d57fd2c7"
      },
      "execution_count": null,
      "outputs": [
        {
          "output_type": "stream",
          "name": "stdout",
          "text": [
            "you have\n",
            "he is\n"
          ]
        }
      ]
    },
    {
      "cell_type": "code",
      "source": [
        "# Remove punctuation and numbers\n",
        "def remove_punctuation_number(text, remove_digits=False):\n",
        "    text = re.sub(r'[%s]' % re.escape(''.join(string.punctuation)), r' ', text)  # remove punctuation\n",
        "    pattern = r'[^a-zA-z0-9\\s]' if not remove_digits else r'[^a-zA-z\\s]'\n",
        "    text = re.sub(pattern, '', text)\n",
        "    return text\n",
        "\n",
        "\n",
        "df['text'] = df['text'].apply(lambda x : remove_punctuation_number(x, True))\n",
        "\n",
        "remove_punctuation_number(\"Well this was fun! What do you think? 123#@!\", remove_digits=True)"
      ],
      "metadata": {
        "id": "nK0HaRbNWvQB",
        "colab": {
          "base_uri": "https://localhost:8080/",
          "height": 35
        },
        "outputId": "fa930fdf-1ca4-4424-fc44-6fca5d053a89"
      },
      "execution_count": null,
      "outputs": [
        {
          "output_type": "execute_result",
          "data": {
            "text/plain": [
              "'Well this was fun  What do you think     '"
            ],
            "application/vnd.google.colaboratory.intrinsic+json": {
              "type": "string"
            }
          },
          "metadata": {},
          "execution_count": 14
        }
      ]
    },
    {
      "cell_type": "code",
      "source": [
        "# REMOVE STOPWORDS\n",
        "\n",
        "nltk.download('wordnet')\n",
        "nltk.download('stopwords')\n",
        "stoplist = set(stopwords.words('english'))\n",
        "\n",
        "df['text'] = df['text'].apply(lambda x: ' '.join([word for word in x.split() if word not in (stoplist)]))"
      ],
      "metadata": {
        "id": "J9f09Q1hW-OQ",
        "colab": {
          "base_uri": "https://localhost:8080/"
        },
        "outputId": "9a747620-725a-41a7-bcc7-6694a4972100"
      },
      "execution_count": null,
      "outputs": [
        {
          "output_type": "stream",
          "name": "stderr",
          "text": [
            "[nltk_data] Downloading package wordnet to /root/nltk_data...\n",
            "[nltk_data] Downloading package stopwords to /root/nltk_data...\n",
            "[nltk_data]   Unzipping corpora/stopwords.zip.\n"
          ]
        }
      ]
    },
    {
      "cell_type": "code",
      "source": [
        "display(df['text'][0])"
      ],
      "metadata": {
        "colab": {
          "base_uri": "https://localhost:8080/",
          "height": 120
        },
        "id": "seSTkJU-_I7V",
        "outputId": "e4b5dcc4-ab8c-4e9f-8569-dadab78fddd0"
      },
      "execution_count": null,
      "outputs": [
        {
          "output_type": "display_data",
          "data": {
            "text/plain": [
              "'law enforcement high alert following threats cops whites blacklivesmatter fyf terrorists comment expected barack obama members fyf fukyoflag blacklivesmatter movements called lynching hanging white people cops encouraged others radio show tuesday night turn tide kill white people cops send message killing black people america one f yoflag organizers called sunshine radio blog show hosted texas called sunshine f ing opinion radio show snapshot fyf lolatwhitefear twitter page p shows urging supporters call fyf tonight continue dismantle illusion white snapshot twitter radio call invite fyfthe radio show aired p eastern standard time show callers clearly call lynching killing white people minute clip radio show heard provided breitbart texas someone would like referred hannibal already received death threats result interrupting fyf conference calls unidentified black man said mother f kers start f ing like us bunch ni ers takin one us roll said already roll gangs anyway six seven black mother f ckers see white person lynch ass let turn tables conspired cops started losing people state emergency speculated one two things would happen big ass war ni ers going start backin already getting killed f k got lose sunshine could heard saying yep true f king true said need turn tables kids getting shot somebody needs become sacrifice side said everybody whatever like say everybody different position war continued give f k anyway said might well utilized turn tables n ers said way start lookin like havin many casualties causalities side instead killing black people black lives matter mother f kers got make matter find mother f ker alone snap ass f hang damn tree take picture send mother f kers need one example people start watchin turn tables said said start trickle effect said one white person hung flat hanging start trickle effect continued black people good starting trends said get upper hand another black man spoke saying needed kill cops killing us first black male said best method right breitbart texas previously reported sunshine upset racist white people infiltrated disrupted one conference calls subsequently released phone number one infiltrators veteran immediately started receiving threatening calls one f yoflag movement supporters allegedly told veteran infiltrated publicly posted conference call going rape gut pregnant wife f ing piece sh unborn creature hung tree breitbart texas previously encountered sunshine sandra bland protest waller county jail texas said white people killed told journalists photographers see nappy ass hair head means one militant negroes said protest redneck mother f kers murdered sandra bland nappy hair like fyf black radicals say holding imperial powers actually responsible terrorist attacks september th accountable day reported breitbart texas several websites twitter handles movement palmetto star describes one head organizers said youtube video supporters burning symbols illusion superiority false white supremacy like american flag british flag police uniforms ku klux klan hoods sierra mcgrone nocturnus libertus posted help young afrikan clean rag oppression posted two photos one appears photo black man wiping naked butts american flag entire story breitbart news'"
            ],
            "application/vnd.google.colaboratory.intrinsic+json": {
              "type": "string"
            }
          },
          "metadata": {}
        }
      ]
    },
    {
      "cell_type": "code",
      "source": [
        "### "
      ],
      "metadata": {
        "id": "JL9zhCkz_lZg"
      },
      "execution_count": null,
      "outputs": []
    },
    {
      "cell_type": "code",
      "source": [
        "# TOKENIZE DATA\n",
        "from nltk.tokenize import word_tokenize\n",
        "\n",
        "df['text'] = df['text'].apply(lambda x:word_tokenize(x))"
      ],
      "metadata": {
        "id": "sbA64S2UAIuh"
      },
      "execution_count": null,
      "outputs": []
    },
    {
      "cell_type": "code",
      "source": [
        "display(df['text'][0])"
      ],
      "metadata": {
        "colab": {
          "base_uri": "https://localhost:8080/",
          "height": 1000
        },
        "id": "UTD3HjwPD4ex",
        "outputId": "6da8e1ab-4f94-47b6-f77b-ccfab178f4cf"
      },
      "execution_count": null,
      "outputs": [
        {
          "output_type": "display_data",
          "data": {
            "text/plain": [
              "['law',\n",
              " 'enforcement',\n",
              " 'high',\n",
              " 'alert',\n",
              " 'following',\n",
              " 'threats',\n",
              " 'cops',\n",
              " 'whites',\n",
              " 'blacklivesmatter',\n",
              " 'fyf',\n",
              " 'terrorists',\n",
              " 'comment',\n",
              " 'expected',\n",
              " 'barack',\n",
              " 'obama',\n",
              " 'members',\n",
              " 'fyf',\n",
              " 'fukyoflag',\n",
              " 'blacklivesmatter',\n",
              " 'movements',\n",
              " 'called',\n",
              " 'lynching',\n",
              " 'hanging',\n",
              " 'white',\n",
              " 'people',\n",
              " 'cops',\n",
              " 'encouraged',\n",
              " 'others',\n",
              " 'radio',\n",
              " 'show',\n",
              " 'tuesday',\n",
              " 'night',\n",
              " 'turn',\n",
              " 'tide',\n",
              " 'kill',\n",
              " 'white',\n",
              " 'people',\n",
              " 'cops',\n",
              " 'send',\n",
              " 'message',\n",
              " 'killing',\n",
              " 'black',\n",
              " 'people',\n",
              " 'america',\n",
              " 'one',\n",
              " 'f',\n",
              " 'yoflag',\n",
              " 'organizers',\n",
              " 'called',\n",
              " 'sunshine',\n",
              " 'radio',\n",
              " 'blog',\n",
              " 'show',\n",
              " 'hosted',\n",
              " 'texas',\n",
              " 'called',\n",
              " 'sunshine',\n",
              " 'f',\n",
              " 'ing',\n",
              " 'opinion',\n",
              " 'radio',\n",
              " 'show',\n",
              " 'snapshot',\n",
              " 'fyf',\n",
              " 'lolatwhitefear',\n",
              " 'twitter',\n",
              " 'page',\n",
              " 'p',\n",
              " 'shows',\n",
              " 'urging',\n",
              " 'supporters',\n",
              " 'call',\n",
              " 'fyf',\n",
              " 'tonight',\n",
              " 'continue',\n",
              " 'dismantle',\n",
              " 'illusion',\n",
              " 'white',\n",
              " 'snapshot',\n",
              " 'twitter',\n",
              " 'radio',\n",
              " 'call',\n",
              " 'invite',\n",
              " 'fyfthe',\n",
              " 'radio',\n",
              " 'show',\n",
              " 'aired',\n",
              " 'p',\n",
              " 'eastern',\n",
              " 'standard',\n",
              " 'time',\n",
              " 'show',\n",
              " 'callers',\n",
              " 'clearly',\n",
              " 'call',\n",
              " 'lynching',\n",
              " 'killing',\n",
              " 'white',\n",
              " 'people',\n",
              " 'minute',\n",
              " 'clip',\n",
              " 'radio',\n",
              " 'show',\n",
              " 'heard',\n",
              " 'provided',\n",
              " 'breitbart',\n",
              " 'texas',\n",
              " 'someone',\n",
              " 'would',\n",
              " 'like',\n",
              " 'referred',\n",
              " 'hannibal',\n",
              " 'already',\n",
              " 'received',\n",
              " 'death',\n",
              " 'threats',\n",
              " 'result',\n",
              " 'interrupting',\n",
              " 'fyf',\n",
              " 'conference',\n",
              " 'calls',\n",
              " 'unidentified',\n",
              " 'black',\n",
              " 'man',\n",
              " 'said',\n",
              " 'mother',\n",
              " 'f',\n",
              " 'kers',\n",
              " 'start',\n",
              " 'f',\n",
              " 'ing',\n",
              " 'like',\n",
              " 'us',\n",
              " 'bunch',\n",
              " 'ni',\n",
              " 'ers',\n",
              " 'takin',\n",
              " 'one',\n",
              " 'us',\n",
              " 'roll',\n",
              " 'said',\n",
              " 'already',\n",
              " 'roll',\n",
              " 'gangs',\n",
              " 'anyway',\n",
              " 'six',\n",
              " 'seven',\n",
              " 'black',\n",
              " 'mother',\n",
              " 'f',\n",
              " 'ckers',\n",
              " 'see',\n",
              " 'white',\n",
              " 'person',\n",
              " 'lynch',\n",
              " 'ass',\n",
              " 'let',\n",
              " 'turn',\n",
              " 'tables',\n",
              " 'conspired',\n",
              " 'cops',\n",
              " 'started',\n",
              " 'losing',\n",
              " 'people',\n",
              " 'state',\n",
              " 'emergency',\n",
              " 'speculated',\n",
              " 'one',\n",
              " 'two',\n",
              " 'things',\n",
              " 'would',\n",
              " 'happen',\n",
              " 'big',\n",
              " 'ass',\n",
              " 'war',\n",
              " 'ni',\n",
              " 'ers',\n",
              " 'going',\n",
              " 'start',\n",
              " 'backin',\n",
              " 'already',\n",
              " 'getting',\n",
              " 'killed',\n",
              " 'f',\n",
              " 'k',\n",
              " 'got',\n",
              " 'lose',\n",
              " 'sunshine',\n",
              " 'could',\n",
              " 'heard',\n",
              " 'saying',\n",
              " 'yep',\n",
              " 'true',\n",
              " 'f',\n",
              " 'king',\n",
              " 'true',\n",
              " 'said',\n",
              " 'need',\n",
              " 'turn',\n",
              " 'tables',\n",
              " 'kids',\n",
              " 'getting',\n",
              " 'shot',\n",
              " 'somebody',\n",
              " 'needs',\n",
              " 'become',\n",
              " 'sacrifice',\n",
              " 'side',\n",
              " 'said',\n",
              " 'everybody',\n",
              " 'whatever',\n",
              " 'like',\n",
              " 'say',\n",
              " 'everybody',\n",
              " 'different',\n",
              " 'position',\n",
              " 'war',\n",
              " 'continued',\n",
              " 'give',\n",
              " 'f',\n",
              " 'k',\n",
              " 'anyway',\n",
              " 'said',\n",
              " 'might',\n",
              " 'well',\n",
              " 'utilized',\n",
              " 'turn',\n",
              " 'tables',\n",
              " 'n',\n",
              " 'ers',\n",
              " 'said',\n",
              " 'way',\n",
              " 'start',\n",
              " 'lookin',\n",
              " 'like',\n",
              " 'havin',\n",
              " 'many',\n",
              " 'casualties',\n",
              " 'causalities',\n",
              " 'side',\n",
              " 'instead',\n",
              " 'killing',\n",
              " 'black',\n",
              " 'people',\n",
              " 'black',\n",
              " 'lives',\n",
              " 'matter',\n",
              " 'mother',\n",
              " 'f',\n",
              " 'kers',\n",
              " 'got',\n",
              " 'make',\n",
              " 'matter',\n",
              " 'find',\n",
              " 'mother',\n",
              " 'f',\n",
              " 'ker',\n",
              " 'alone',\n",
              " 'snap',\n",
              " 'ass',\n",
              " 'f',\n",
              " 'hang',\n",
              " 'damn',\n",
              " 'tree',\n",
              " 'take',\n",
              " 'picture',\n",
              " 'send',\n",
              " 'mother',\n",
              " 'f',\n",
              " 'kers',\n",
              " 'need',\n",
              " 'one',\n",
              " 'example',\n",
              " 'people',\n",
              " 'start',\n",
              " 'watchin',\n",
              " 'turn',\n",
              " 'tables',\n",
              " 'said',\n",
              " 'said',\n",
              " 'start',\n",
              " 'trickle',\n",
              " 'effect',\n",
              " 'said',\n",
              " 'one',\n",
              " 'white',\n",
              " 'person',\n",
              " 'hung',\n",
              " 'flat',\n",
              " 'hanging',\n",
              " 'start',\n",
              " 'trickle',\n",
              " 'effect',\n",
              " 'continued',\n",
              " 'black',\n",
              " 'people',\n",
              " 'good',\n",
              " 'starting',\n",
              " 'trends',\n",
              " 'said',\n",
              " 'get',\n",
              " 'upper',\n",
              " 'hand',\n",
              " 'another',\n",
              " 'black',\n",
              " 'man',\n",
              " 'spoke',\n",
              " 'saying',\n",
              " 'needed',\n",
              " 'kill',\n",
              " 'cops',\n",
              " 'killing',\n",
              " 'us',\n",
              " 'first',\n",
              " 'black',\n",
              " 'male',\n",
              " 'said',\n",
              " 'best',\n",
              " 'method',\n",
              " 'right',\n",
              " 'breitbart',\n",
              " 'texas',\n",
              " 'previously',\n",
              " 'reported',\n",
              " 'sunshine',\n",
              " 'upset',\n",
              " 'racist',\n",
              " 'white',\n",
              " 'people',\n",
              " 'infiltrated',\n",
              " 'disrupted',\n",
              " 'one',\n",
              " 'conference',\n",
              " 'calls',\n",
              " 'subsequently',\n",
              " 'released',\n",
              " 'phone',\n",
              " 'number',\n",
              " 'one',\n",
              " 'infiltrators',\n",
              " 'veteran',\n",
              " 'immediately',\n",
              " 'started',\n",
              " 'receiving',\n",
              " 'threatening',\n",
              " 'calls',\n",
              " 'one',\n",
              " 'f',\n",
              " 'yoflag',\n",
              " 'movement',\n",
              " 'supporters',\n",
              " 'allegedly',\n",
              " 'told',\n",
              " 'veteran',\n",
              " 'infiltrated',\n",
              " 'publicly',\n",
              " 'posted',\n",
              " 'conference',\n",
              " 'call',\n",
              " 'going',\n",
              " 'rape',\n",
              " 'gut',\n",
              " 'pregnant',\n",
              " 'wife',\n",
              " 'f',\n",
              " 'ing',\n",
              " 'piece',\n",
              " 'sh',\n",
              " 'unborn',\n",
              " 'creature',\n",
              " 'hung',\n",
              " 'tree',\n",
              " 'breitbart',\n",
              " 'texas',\n",
              " 'previously',\n",
              " 'encountered',\n",
              " 'sunshine',\n",
              " 'sandra',\n",
              " 'bland',\n",
              " 'protest',\n",
              " 'waller',\n",
              " 'county',\n",
              " 'jail',\n",
              " 'texas',\n",
              " 'said',\n",
              " 'white',\n",
              " 'people',\n",
              " 'killed',\n",
              " 'told',\n",
              " 'journalists',\n",
              " 'photographers',\n",
              " 'see',\n",
              " 'nappy',\n",
              " 'ass',\n",
              " 'hair',\n",
              " 'head',\n",
              " 'means',\n",
              " 'one',\n",
              " 'militant',\n",
              " 'negroes',\n",
              " 'said',\n",
              " 'protest',\n",
              " 'redneck',\n",
              " 'mother',\n",
              " 'f',\n",
              " 'kers',\n",
              " 'murdered',\n",
              " 'sandra',\n",
              " 'bland',\n",
              " 'nappy',\n",
              " 'hair',\n",
              " 'like',\n",
              " 'fyf',\n",
              " 'black',\n",
              " 'radicals',\n",
              " 'say',\n",
              " 'holding',\n",
              " 'imperial',\n",
              " 'powers',\n",
              " 'actually',\n",
              " 'responsible',\n",
              " 'terrorist',\n",
              " 'attacks',\n",
              " 'september',\n",
              " 'th',\n",
              " 'accountable',\n",
              " 'day',\n",
              " 'reported',\n",
              " 'breitbart',\n",
              " 'texas',\n",
              " 'several',\n",
              " 'websites',\n",
              " 'twitter',\n",
              " 'handles',\n",
              " 'movement',\n",
              " 'palmetto',\n",
              " 'star',\n",
              " 'describes',\n",
              " 'one',\n",
              " 'head',\n",
              " 'organizers',\n",
              " 'said',\n",
              " 'youtube',\n",
              " 'video',\n",
              " 'supporters',\n",
              " 'burning',\n",
              " 'symbols',\n",
              " 'illusion',\n",
              " 'superiority',\n",
              " 'false',\n",
              " 'white',\n",
              " 'supremacy',\n",
              " 'like',\n",
              " 'american',\n",
              " 'flag',\n",
              " 'british',\n",
              " 'flag',\n",
              " 'police',\n",
              " 'uniforms',\n",
              " 'ku',\n",
              " 'klux',\n",
              " 'klan',\n",
              " 'hoods',\n",
              " 'sierra',\n",
              " 'mcgrone',\n",
              " 'nocturnus',\n",
              " 'libertus',\n",
              " 'posted',\n",
              " 'help',\n",
              " 'young',\n",
              " 'afrikan',\n",
              " 'clean',\n",
              " 'rag',\n",
              " 'oppression',\n",
              " 'posted',\n",
              " 'two',\n",
              " 'photos',\n",
              " 'one',\n",
              " 'appears',\n",
              " 'photo',\n",
              " 'black',\n",
              " 'man',\n",
              " 'wiping',\n",
              " 'naked',\n",
              " 'butts',\n",
              " 'american',\n",
              " 'flag',\n",
              " 'entire',\n",
              " 'story',\n",
              " 'breitbart',\n",
              " 'news']"
            ]
          },
          "metadata": {}
        }
      ]
    },
    {
      "cell_type": "code",
      "source": [
        "# LEMMATIZE DATA\n",
        "def lemmatizer(text):\n",
        "    lem_text = ' '.join(WordNetLemmatizer().lemmatize(i) for i in text)\n",
        "    return lem_text\n",
        "\n",
        "\n",
        "df['text'] = df['text'].apply(lambda x: lemmatizer(x))"
      ],
      "metadata": {
        "id": "fCxe6F73YmzZ"
      },
      "execution_count": null,
      "outputs": []
    },
    {
      "cell_type": "code",
      "source": [
        "display(df['text'][0])"
      ],
      "metadata": {
        "colab": {
          "base_uri": "https://localhost:8080/",
          "height": 324
        },
        "id": "7eaq55u5FKnf",
        "outputId": "72dd0c93-e967-41cd-a176-e54cf47e3893"
      },
      "execution_count": null,
      "outputs": [
        {
          "output_type": "display_data",
          "data": {
            "text/plain": [
              "'law enforcement high alert following threat cop white blacklivesmatter fyf terrorist comment expected barack obama member fyf fukyoflag blacklivesmatter movement called lynching hanging white people cop encouraged others radio show tuesday night turn tide kill white people cop send message killing black people america one f yoflag organizer called sunshine radio blog show hosted texas called sunshine f ing opinion radio show snapshot fyf lolatwhitefear twitter page p show urging supporter call fyf tonight continue dismantle illusion white snapshot twitter radio call invite fyfthe radio show aired p eastern standard time show caller clearly call lynching killing white people minute clip radio show heard provided breitbart texas someone would like referred hannibal already received death threat result interrupting fyf conference call unidentified black man said mother f kers start f ing like u bunch ni er takin one u roll said already roll gang anyway six seven black mother f ckers see white person lynch as let turn table conspired cop started losing people state emergency speculated one two thing would happen big as war ni er going start backin already getting killed f k got lose sunshine could heard saying yep true f king true said need turn table kid getting shot somebody need become sacrifice side said everybody whatever like say everybody different position war continued give f k anyway said might well utilized turn table n er said way start lookin like havin many casualty causality side instead killing black people black life matter mother f kers got make matter find mother f ker alone snap as f hang damn tree take picture send mother f kers need one example people start watchin turn table said said start trickle effect said one white person hung flat hanging start trickle effect continued black people good starting trend said get upper hand another black man spoke saying needed kill cop killing u first black male said best method right breitbart texas previously reported sunshine upset racist white people infiltrated disrupted one conference call subsequently released phone number one infiltrator veteran immediately started receiving threatening call one f yoflag movement supporter allegedly told veteran infiltrated publicly posted conference call going rape gut pregnant wife f ing piece sh unborn creature hung tree breitbart texas previously encountered sunshine sandra bland protest waller county jail texas said white people killed told journalist photographer see nappy as hair head mean one militant negro said protest redneck mother f kers murdered sandra bland nappy hair like fyf black radical say holding imperial power actually responsible terrorist attack september th accountable day reported breitbart texas several website twitter handle movement palmetto star describes one head organizer said youtube video supporter burning symbol illusion superiority false white supremacy like american flag british flag police uniform ku klux klan hood sierra mcgrone nocturnus libertus posted help young afrikan clean rag oppression posted two photo one appears photo black man wiping naked butt american flag entire story breitbart news'"
            ],
            "application/vnd.google.colaboratory.intrinsic+json": {
              "type": "string"
            }
          },
          "metadata": {}
        }
      ]
    },
    {
      "cell_type": "code",
      "source": [
        "# Split the dataset into training and test sets\n",
        "X = df['text']\n",
        "y = df['label']\n",
        "\n",
        "X_train, X_test, y_train, y_test = train_test_split(X, y, test_size=0.2, random_state=123, stratify=y)"
      ],
      "metadata": {
        "id": "3LVFO21FbkiD"
      },
      "execution_count": null,
      "outputs": []
    },
    {
      "cell_type": "code",
      "source": [
        "# VECTORIZE DATA\n",
        "\n",
        "# Bag of Words\n",
        "count_vectorizer = CountVectorizer()\n",
        "train_vectors_count = count_vectorizer.fit_transform(X_train)\n",
        "test_vectors_count = count_vectorizer.transform(X_test)"
      ],
      "metadata": {
        "id": "GHSyJlYKYwHj"
      },
      "execution_count": null,
      "outputs": []
    },
    {
      "cell_type": "code",
      "source": [
        "# VECTORIZE DATA\n",
        "\n",
        "# TF-IDF\n",
        "from sklearn.feature_extraction.text import TfidfVectorizer\n",
        "\n",
        "tfidf_vectorizer = TfidfVectorizer() \n",
        "tfidf_train_vectors = tfidf_vectorizer.fit_transform(X_train)\n",
        "tfidf_test_vectors = tfidf_vectorizer.transform(X_test)"
      ],
      "metadata": {
        "id": "1vffW8llGH7X"
      },
      "execution_count": null,
      "outputs": []
    },
    {
      "cell_type": "markdown",
      "source": [
        "# **MODELING**"
      ],
      "metadata": {
        "id": "5Q3HEy6ERRUZ"
      }
    },
    {
      "cell_type": "code",
      "source": [
        "#  Logistic Regression\n",
        "\n",
        "lr = LogisticRegression(C=100, random_state=11, solver='lbfgs', multi_class='ovr', penalty='l2', max_iter=1000)\n",
        "lr.fit(train_vectors_count, y_train)\n",
        "print(lr.score(train_vectors_count, y_train))\n",
        "\n",
        "lr_pred = lr.predict(test_vectors_count)\n",
        "# print(lr.score(test_vectors_count, y_test))\n",
        "print(classification_report(y_test, lr_pred))"
      ],
      "metadata": {
        "id": "2hUIT1UDJWes",
        "colab": {
          "base_uri": "https://localhost:8080/"
        },
        "outputId": "bd473ef9-d3b6-44cc-dd4d-f5d7c0fe6655"
      },
      "execution_count": null,
      "outputs": [
        {
          "output_type": "stream",
          "name": "stdout",
          "text": [
            "1.0\n",
            "              precision    recall  f1-score   support\n",
            "\n",
            "           0       0.96      0.94      0.95      7006\n",
            "           1       0.95      0.96      0.95      7302\n",
            "\n",
            "    accuracy                           0.95     14308\n",
            "   macro avg       0.95      0.95      0.95     14308\n",
            "weighted avg       0.95      0.95      0.95     14308\n",
            "\n"
          ]
        }
      ]
    },
    {
      "cell_type": "code",
      "source": [
        "#  Naive Bayes\n",
        "\n",
        "nb_classifier = MultinomialNB()\n",
        "nb_classifier.fit(train_vectors_count, y_train)\n",
        "nb_pred = nb_classifier.predict(test_vectors_count)\n",
        "print(classification_report(y_test, nb_pred))"
      ],
      "metadata": {
        "id": "_Cko-3BfJYpR",
        "colab": {
          "base_uri": "https://localhost:8080/"
        },
        "outputId": "a3ba0995-c03e-4ea4-9249-db6fa332b4a0"
      },
      "execution_count": null,
      "outputs": [
        {
          "output_type": "stream",
          "name": "stdout",
          "text": [
            "              precision    recall  f1-score   support\n",
            "\n",
            "           0       0.89      0.89      0.89      7006\n",
            "           1       0.89      0.90      0.89      7302\n",
            "\n",
            "    accuracy                           0.89     14308\n",
            "   macro avg       0.89      0.89      0.89     14308\n",
            "weighted avg       0.89      0.89      0.89     14308\n",
            "\n"
          ]
        }
      ]
    },
    {
      "cell_type": "code",
      "source": [
        "# Random Forest with BoW\n",
        "\n",
        "from sklearn.ensemble import RandomForestClassifier\n",
        "\n",
        "rf = RandomForestClassifier(n_estimators=100)\n",
        "rf.fit(train_vectors_count, y_train)\n",
        "rf_pred = rf.predict(test_vectors_count)\n",
        "print(classification_report(y_test, rf_pred))\n"
      ],
      "metadata": {
        "id": "muhjZeL9XBBu",
        "colab": {
          "base_uri": "https://localhost:8080/"
        },
        "outputId": "2b0debc2-cace-40ab-d034-d6e943e59c42"
      },
      "execution_count": null,
      "outputs": [
        {
          "output_type": "stream",
          "name": "stdout",
          "text": [
            "              precision    recall  f1-score   support\n",
            "\n",
            "           0       0.95      0.93      0.94      7006\n",
            "           1       0.94      0.95      0.94      7302\n",
            "\n",
            "    accuracy                           0.94     14308\n",
            "   macro avg       0.94      0.94      0.94     14308\n",
            "weighted avg       0.94      0.94      0.94     14308\n",
            "\n"
          ]
        }
      ]
    },
    {
      "cell_type": "code",
      "source": [
        "# Random Forest with TF_IDF\n",
        "\n",
        "rf.fit(tfidf_train_vectors, y_train)\n",
        "rf_pred2 = rf.predict(tfidf_test_vectors)\n",
        "print(classification_report(y_test, rf_pred2))"
      ],
      "metadata": {
        "colab": {
          "base_uri": "https://localhost:8080/"
        },
        "id": "cBMBrHrYPX6t",
        "outputId": "45f23737-d9a6-4948-ac92-78663361c2c0"
      },
      "execution_count": null,
      "outputs": [
        {
          "output_type": "stream",
          "name": "stdout",
          "text": [
            "              precision    recall  f1-score   support\n",
            "\n",
            "           0       0.95      0.92      0.94      7006\n",
            "           1       0.93      0.95      0.94      7302\n",
            "\n",
            "    accuracy                           0.94     14308\n",
            "   macro avg       0.94      0.94      0.94     14308\n",
            "weighted avg       0.94      0.94      0.94     14308\n",
            "\n"
          ]
        }
      ]
    },
    {
      "cell_type": "markdown",
      "source": [
        "# **RNN starting here**"
      ],
      "metadata": {
        "id": "5MGpAITJKGpu"
      }
    },
    {
      "cell_type": "code",
      "source": [
        "max_vocab = 10000\n",
        "tokenizer = Tokenizer(num_words=max_vocab)\n",
        "tokenizer.fit_on_texts(X_train)"
      ],
      "metadata": {
        "id": "1in2Go8CKDSw"
      },
      "execution_count": null,
      "outputs": []
    },
    {
      "cell_type": "code",
      "source": [
        "word_index = tokenizer.word_index\n",
        "vocab_size=len(word_index)\n",
        "print(vocab_size)"
      ],
      "metadata": {
        "colab": {
          "base_uri": "https://localhost:8080/"
        },
        "id": "pdzangB6cSxh",
        "outputId": "b9a6fcfe-c358-4b76-a77b-32cc1cee6931"
      },
      "execution_count": null,
      "outputs": [
        {
          "output_type": "stream",
          "name": "stdout",
          "text": [
            "177995\n"
          ]
        }
      ]
    },
    {
      "cell_type": "code",
      "source": [
        "# tokenize the text into vectors \n",
        "X_train = tokenizer.texts_to_sequences(X_train)\n",
        "X_test = tokenizer.texts_to_sequences(X_test)"
      ],
      "metadata": {
        "id": "RaNJdd6PKhlB"
      },
      "execution_count": null,
      "outputs": []
    },
    {
      "cell_type": "code",
      "source": [
        "# Apply padding so we have the same length for each article\n",
        "\n",
        "X_train = tf.keras.preprocessing.sequence.pad_sequences(X_train, padding='post', maxlen=512)\n",
        "X_test = tf.keras.preprocessing.sequence.pad_sequences(X_test, padding='post', maxlen=512)"
      ],
      "metadata": {
        "id": "51JIle5AKzWP"
      },
      "execution_count": null,
      "outputs": []
    },
    {
      "cell_type": "code",
      "source": [
        "model1 = tf.keras.Sequential([\n",
        "    tf.keras.layers.Embedding(max_vocab, 128),\n",
        "    tf.keras.layers.Bidirectional(tf.keras.layers.LSTM(64,  return_sequences=True)),\n",
        "    tf.keras.layers.Bidirectional(tf.keras.layers.LSTM(16)),\n",
        "    tf.keras.layers.Dense(64, activation='relu'),\n",
        "    tf.keras.layers.Dropout(0.5),\n",
        "    tf.keras.layers.Dense(1)\n",
        "])\n",
        "\n",
        "model1.summary()"
      ],
      "metadata": {
        "colab": {
          "base_uri": "https://localhost:8080/"
        },
        "id": "u-8VzwkEO_Lq",
        "outputId": "b1d8d958-2c28-4ec3-8829-f75181e7df4c"
      },
      "execution_count": null,
      "outputs": [
        {
          "output_type": "stream",
          "name": "stdout",
          "text": [
            "Model: \"sequential_3\"\n",
            "_________________________________________________________________\n",
            " Layer (type)                Output Shape              Param #   \n",
            "=================================================================\n",
            " embedding_3 (Embedding)     (None, None, 128)         1280000   \n",
            "                                                                 \n",
            " bidirectional_6 (Bidirectio  (None, None, 128)        98816     \n",
            " nal)                                                            \n",
            "                                                                 \n",
            " bidirectional_7 (Bidirectio  (None, 32)               18560     \n",
            " nal)                                                            \n",
            "                                                                 \n",
            " dense_6 (Dense)             (None, 64)                2112      \n",
            "                                                                 \n",
            " dropout_3 (Dropout)         (None, 64)                0         \n",
            "                                                                 \n",
            " dense_7 (Dense)             (None, 1)                 65        \n",
            "                                                                 \n",
            "=================================================================\n",
            "Total params: 1,399,553\n",
            "Trainable params: 1,399,553\n",
            "Non-trainable params: 0\n",
            "_________________________________________________________________\n"
          ]
        }
      ]
    },
    {
      "cell_type": "code",
      "source": [
        "early_stop = tf.keras.callbacks.EarlyStopping(monitor='val_loss', patience=2, restore_best_weights=True)\n",
        "model1.compile(loss=tf.keras.losses.BinaryCrossentropy(from_logits=True),\n",
        "              optimizer=tf.keras.optimizers.Adam(1e-4),\n",
        "              metrics=['accuracy'])\n",
        "\n",
        "history = model1.fit(X_train, y_train, epochs=10,validation_split=0.1, batch_size=30, shuffle=True, callbacks=[early_stop])"
      ],
      "metadata": {
        "colab": {
          "base_uri": "https://localhost:8080/"
        },
        "id": "ryFZ168TQdrz",
        "outputId": "61146f2b-087a-4fa6-bcf9-d72ec22829fd"
      },
      "execution_count": null,
      "outputs": [
        {
          "output_type": "stream",
          "name": "stdout",
          "text": [
            "Epoch 1/10\n",
            "1717/1717 [==============================] - 306s 173ms/step - loss: 0.2578 - accuracy: 0.8785 - val_loss: 0.1234 - val_accuracy: 0.9530\n",
            "Epoch 2/10\n",
            "1717/1717 [==============================] - 148s 86ms/step - loss: 0.1045 - accuracy: 0.9660 - val_loss: 0.1097 - val_accuracy: 0.9640\n",
            "Epoch 3/10\n",
            "1717/1717 [==============================] - 122s 71ms/step - loss: 0.0701 - accuracy: 0.9791 - val_loss: 0.1234 - val_accuracy: 0.9568\n",
            "Epoch 4/10\n",
            "1717/1717 [==============================] - 113s 66ms/step - loss: 0.0485 - accuracy: 0.9868 - val_loss: 0.1126 - val_accuracy: 0.9651\n"
          ]
        }
      ]
    },
    {
      "cell_type": "code",
      "source": [
        "test_loss1, test_acc1 = model1.evaluate(X_test, y_test)\n",
        "y_hat1 = model1.predict(X_test)\n",
        "\n",
        "print('Test Loss:', test_loss1)\n",
        "print('Test Accuracy:', test_acc1)"
      ],
      "metadata": {
        "colab": {
          "base_uri": "https://localhost:8080/"
        },
        "id": "gpXd01lrdHpb",
        "outputId": "4f4d26fe-2b93-476c-ff6b-ddc4373dd646"
      },
      "execution_count": null,
      "outputs": [
        {
          "output_type": "stream",
          "name": "stdout",
          "text": [
            "448/448 [==============================] - 13s 28ms/step - loss: 0.1190 - accuracy: 0.9602\n",
            "448/448 [==============================] - 13s 25ms/step\n",
            "Test Loss: 0.11904348433017731\n",
            "Test Accuracy: 0.9601621627807617\n"
          ]
        }
      ]
    },
    {
      "cell_type": "code",
      "source": [
        "## print classification report for RNN - LSTM\n",
        "print(classification_report(y_test, np.where(y_hat1 >= 0.5, 1, 0)))"
      ],
      "metadata": {
        "colab": {
          "base_uri": "https://localhost:8080/"
        },
        "id": "upJpyu-mdXUY",
        "outputId": "dce96382-73d6-435f-ac23-15feccc46ef0"
      },
      "execution_count": null,
      "outputs": [
        {
          "output_type": "stream",
          "name": "stdout",
          "text": [
            "              precision    recall  f1-score   support\n",
            "\n",
            "           0       0.97      0.95      0.96      7006\n",
            "           1       0.95      0.97      0.96      7302\n",
            "\n",
            "    accuracy                           0.96     14308\n",
            "   macro avg       0.96      0.96      0.96     14308\n",
            "weighted avg       0.96      0.96      0.96     14308\n",
            "\n"
          ]
        }
      ]
    },
    {
      "cell_type": "code",
      "source": [
        "# RNN Model with Different Hyperparameters:"
      ],
      "metadata": {
        "id": "PWS4C5Ygdzgq"
      },
      "execution_count": null,
      "outputs": []
    },
    {
      "cell_type": "code",
      "source": [
        "MAX_LEN = 512\n",
        "model2 = tf.keras.Sequential([\n",
        "    Input(name='inputs',shape=[MAX_LEN]),\n",
        "    Embedding(len(tokenizer.word_index), 128),\n",
        "    Bidirectional(tf.keras.layers.LSTM(128,  return_sequences=True)),\n",
        "    Bidirectional(tf.keras.layers.LSTM(64)),\n",
        "    Dense(64, activation='relu'),\n",
        "    Dropout(0.5),\n",
        "    Dense(1, activation='sigmoid')\n",
        "])\n",
        "\n",
        "#compile model\n",
        "model2.compile(loss=tf.keras.losses.BinaryCrossentropy(),\n",
        "              optimizer=tf.keras.optimizers.Adam(1e-4),\n",
        "              metrics=['accuracy'])\n",
        "\n",
        "#model summary\n",
        "model2.summary()"
      ],
      "metadata": {
        "colab": {
          "base_uri": "https://localhost:8080/"
        },
        "id": "SpQD1JrrbS53",
        "outputId": "e815ce50-013e-4906-8e79-182a101b471f"
      },
      "execution_count": null,
      "outputs": [
        {
          "output_type": "stream",
          "name": "stdout",
          "text": [
            "Model: \"sequential\"\n",
            "_________________________________________________________________\n",
            " Layer (type)                Output Shape              Param #   \n",
            "=================================================================\n",
            " embedding (Embedding)       (None, 512, 128)          22783360  \n",
            "                                                                 \n",
            " bidirectional (Bidirectiona  (None, 512, 256)         263168    \n",
            " l)                                                              \n",
            "                                                                 \n",
            " bidirectional_1 (Bidirectio  (None, 128)              164352    \n",
            " nal)                                                            \n",
            "                                                                 \n",
            " dense (Dense)               (None, 64)                8256      \n",
            "                                                                 \n",
            " dropout (Dropout)           (None, 64)                0         \n",
            "                                                                 \n",
            " dense_1 (Dense)             (None, 1)                 65        \n",
            "                                                                 \n",
            "=================================================================\n",
            "Total params: 23,219,201\n",
            "Trainable params: 23,219,201\n",
            "Non-trainable params: 0\n",
            "_________________________________________________________________\n"
          ]
        }
      ]
    },
    {
      "cell_type": "code",
      "source": [
        "history = model2.fit(X_train, y_train, epochs=10,\n",
        "                    validation_split = 0.2, batch_size = 64, callbacks=[EarlyStopping(monitor='val_accuracy',mode='max', patience=3, verbose=False,restore_best_weights=True)])"
      ],
      "metadata": {
        "colab": {
          "base_uri": "https://localhost:8080/"
        },
        "id": "HkhlyxdUcZuo",
        "outputId": "9e29eba7-c886-4d29-89eb-6c4694f63ecc"
      },
      "execution_count": null,
      "outputs": [
        {
          "output_type": "stream",
          "name": "stdout",
          "text": [
            "Epoch 1/10\n",
            "716/716 [==============================] - 176s 228ms/step - loss: 0.2790 - accuracy: 0.8781 - val_loss: 0.1681 - val_accuracy: 0.9354\n",
            "Epoch 2/10\n",
            "716/716 [==============================] - 107s 149ms/step - loss: 0.1224 - accuracy: 0.9582 - val_loss: 0.1332 - val_accuracy: 0.9540\n",
            "Epoch 3/10\n",
            "716/716 [==============================] - 94s 132ms/step - loss: 0.0792 - accuracy: 0.9751 - val_loss: 0.1292 - val_accuracy: 0.9548\n",
            "Epoch 4/10\n",
            "716/716 [==============================] - 84s 117ms/step - loss: 0.0522 - accuracy: 0.9851 - val_loss: 0.1195 - val_accuracy: 0.9635\n",
            "Epoch 5/10\n",
            "716/716 [==============================] - 79s 111ms/step - loss: 0.0318 - accuracy: 0.9912 - val_loss: 0.1294 - val_accuracy: 0.9641\n",
            "Epoch 6/10\n",
            "716/716 [==============================] - 75s 105ms/step - loss: 0.0236 - accuracy: 0.9930 - val_loss: 0.1875 - val_accuracy: 0.9444\n",
            "Epoch 7/10\n",
            "716/716 [==============================] - 73s 102ms/step - loss: 0.0175 - accuracy: 0.9956 - val_loss: 0.1779 - val_accuracy: 0.9570\n",
            "Epoch 8/10\n",
            "716/716 [==============================] - 71s 100ms/step - loss: 0.0120 - accuracy: 0.9970 - val_loss: 0.1807 - val_accuracy: 0.9635\n"
          ]
        }
      ]
    },
    {
      "cell_type": "code",
      "source": [
        "test_loss2, test_acc2 = model2.evaluate(X_test, y_test)\n",
        "y_hat2 = model2.predict(X_test)\n",
        "\n",
        "print('Test Loss:', test_loss2)\n",
        "print('Test Accuracy:', test_acc2)"
      ],
      "metadata": {
        "colab": {
          "base_uri": "https://localhost:8080/"
        },
        "id": "EUGOrK9jeTQe",
        "outputId": "3fea401f-09ab-4f2d-a583-25d2774d918f"
      },
      "execution_count": null,
      "outputs": [
        {
          "output_type": "stream",
          "name": "stdout",
          "text": [
            "448/448 [==============================] - 13s 28ms/step - loss: 0.1257 - accuracy: 0.9643\n",
            "448/448 [==============================] - 13s 27ms/step\n",
            "Test Loss: 0.12566840648651123\n",
            "Test Accuracy: 0.9642857313156128\n"
          ]
        }
      ]
    },
    {
      "cell_type": "code",
      "source": [
        "## print classification report for RNN - LSTM\n",
        "print(classification_report(y_test, np.where(y_hat2 >= 0.5, 1, 0)))"
      ],
      "metadata": {
        "colab": {
          "base_uri": "https://localhost:8080/"
        },
        "id": "TrGhDPVffsPW",
        "outputId": "61a3401f-c518-41ac-afd3-a2c48c09ab2d"
      },
      "execution_count": null,
      "outputs": [
        {
          "output_type": "stream",
          "name": "stdout",
          "text": [
            "              precision    recall  f1-score   support\n",
            "\n",
            "           0       0.97      0.96      0.96      7006\n",
            "           1       0.96      0.97      0.97      7302\n",
            "\n",
            "    accuracy                           0.96     14308\n",
            "   macro avg       0.96      0.96      0.96     14308\n",
            "weighted avg       0.96      0.96      0.96     14308\n",
            "\n"
          ]
        }
      ]
    },
    {
      "cell_type": "code",
      "source": [
        "import seaborn as sns\n",
        "plt.figure(figsize = (8,6))\n",
        "\n",
        "sns.heatmap(confusion_matrix(y_test, np.where(y_hat2 >= 0.5, 1, 0)), annot=True, \n",
        "            fmt='', cmap='Blues')\n",
        "\n",
        "plt.xlabel('Predicted Labels')\n",
        "plt.ylabel('True Labels')"
      ],
      "metadata": {
        "colab": {
          "base_uri": "https://localhost:8080/",
          "height": 560
        },
        "id": "xmkBH9oIfzJ_",
        "outputId": "121d55e0-20a4-46f9-c4d6-6c2ab9e3fa16"
      },
      "execution_count": null,
      "outputs": [
        {
          "output_type": "execute_result",
          "data": {
            "text/plain": [
              "Text(70.72222222222221, 0.5, 'True Labels')"
            ]
          },
          "metadata": {},
          "execution_count": 29
        },
        {
          "output_type": "display_data",
          "data": {
            "text/plain": [
              "<Figure size 800x600 with 2 Axes>"
            ],
            "image/png": "[encoded data removed]"
          },
          "metadata": {}
        }
      ]
    },
    {
      "cell_type": "markdown",
      "source": [
        "# **RNN + CNN**\n",
        "\n",
        "References:\n",
        "\n",
        "https://towardsdatascience.com/how-to-build-a-recurrent-neural-network-to-detect-fake-news-35953c19cf0b\n",
        "\n",
        "https://github.com/matdekoning/FakeNewsClassifier/blob/master/FakeNewsClassifier.ipynb\n"
      ],
      "metadata": {
        "id": "IggoUSlAY3iv"
      }
    },
    {
      "cell_type": "code",
      "source": [
        "\n",
        "# Build the architecture of the model\n",
        "     \n",
        "model3 = tf.keras.Sequential([\n",
        "    tf.keras.layers.Embedding(vocab_size+1, 128),\n",
        "    tf.keras.layers.Dropout(0.2),\n",
        "    tf.keras.layers.Conv1D(64, 5, activation='relu'),\n",
        "    tf.keras.layers.MaxPooling1D(pool_size=4),\n",
        "    tf.keras.layers.LSTM(20, return_sequences=True),\n",
        "    tf.keras.layers.LSTM(20),\n",
        "    tf.keras.layers.Dropout(0.2),  \n",
        "    tf.keras.layers.Dense(512),\n",
        "    tf.keras.layers.Dropout(0.3),  \n",
        "    tf.keras.layers.Dense(256),\n",
        "    tf.keras.layers.Dense(1, activation='sigmoid')\n",
        "])"
      ],
      "metadata": {
        "id": "3GE51pvZTCVB"
      },
      "execution_count": null,
      "outputs": []
    },
    {
      "cell_type": "code",
      "source": [
        "#plot the model architecture\n",
        "tf.keras.utils.plot_model(model3)"
      ],
      "metadata": {
        "colab": {
          "base_uri": "https://localhost:8080/",
          "height": 1000
        },
        "id": "jroG7S5aEWEe",
        "outputId": "eb0d1e58-7b68-48dd-f3d8-3b66ba3650e3"
      },
      "execution_count": null,
      "outputs": [
        {
          "output_type": "execute_result",
          "data": {
            "image/png": "[encoded data removed]",
            "text/plain": [
              "<IPython.core.display.Image object>"
            ]
          },
          "metadata": {},
          "execution_count": 31
        }
      ]
    },
    {
      "cell_type": "code",
      "source": [
        "\n",
        "model3.compile(loss='binary_crossentropy',optimizer='adam',metrics=['accuracy'])\n",
        "model3.summary()\n",
        "\n",
        "history = model3.fit(X_train, y_train, epochs=10, batch_size=100, validation_data=[X_test, y_test])\n",
        "\n",
        "print(\"Training Complete\")"
      ],
      "metadata": {
        "colab": {
          "base_uri": "https://localhost:8080/"
        },
        "id": "eZgowzK1exro",
        "outputId": "e432b90a-2c64-4053-fbd2-8ecbd881e6dc"
      },
      "execution_count": null,
      "outputs": [
        {
          "output_type": "stream",
          "name": "stdout",
          "text": [
            "Model: \"sequential_7\"\n",
            "_________________________________________________________________\n",
            " Layer (type)                Output Shape              Param #   \n",
            "=================================================================\n",
            " embedding_7 (Embedding)     (None, None, 128)         22783488  \n",
            "                                                                 \n",
            " dropout_11 (Dropout)        (None, None, 128)         0         \n",
            "                                                                 \n",
            " conv1d_2 (Conv1D)           (None, None, 64)          41024     \n",
            "                                                                 \n",
            " max_pooling1d_2 (MaxPooling  (None, None, 64)         0         \n",
            " 1D)                                                             \n",
            "                                                                 \n",
            " lstm_14 (LSTM)              (None, None, 20)          6800      \n",
            "                                                                 \n",
            " lstm_15 (LSTM)              (None, 20)                3280      \n",
            "                                                                 \n",
            " dropout_12 (Dropout)        (None, 20)                0         \n",
            "                                                                 \n",
            " dense_16 (Dense)            (None, 512)               10752     \n",
            "                                                                 \n",
            " dropout_13 (Dropout)        (None, 512)               0         \n",
            "                                                                 \n",
            " dense_17 (Dense)            (None, 256)               131328    \n",
            "                                                                 \n",
            " dense_18 (Dense)            (None, 1)                 257       \n",
            "                                                                 \n",
            "=================================================================\n",
            "Total params: 22,976,929\n",
            "Trainable params: 22,976,929\n",
            "Non-trainable params: 0\n",
            "_________________________________________________________________\n",
            "Epoch 1/10\n",
            "573/573 [==============================] - 129s 214ms/step - loss: 0.2615 - accuracy: 0.8876 - val_loss: 0.1090 - val_accuracy: 0.9607\n",
            "Epoch 2/10\n",
            "573/573 [==============================] - 54s 94ms/step - loss: 0.0850 - accuracy: 0.9726 - val_loss: 0.1020 - val_accuracy: 0.9647\n",
            "Epoch 3/10\n",
            "573/573 [==============================] - 33s 58ms/step - loss: 0.0451 - accuracy: 0.9870 - val_loss: 0.1037 - val_accuracy: 0.9705\n",
            "Epoch 4/10\n",
            "573/573 [==============================] - 28s 48ms/step - loss: 0.0279 - accuracy: 0.9925 - val_loss: 0.1065 - val_accuracy: 0.9714\n",
            "Epoch 5/10\n",
            "573/573 [==============================] - 25s 44ms/step - loss: 0.0245 - accuracy: 0.9933 - val_loss: 0.0938 - val_accuracy: 0.9742\n",
            "Epoch 6/10\n",
            "573/573 [==============================] - 24s 42ms/step - loss: 0.0311 - accuracy: 0.9914 - val_loss: 0.1251 - val_accuracy: 0.9736\n",
            "Epoch 7/10\n",
            "573/573 [==============================] - 19s 33ms/step - loss: 0.0131 - accuracy: 0.9971 - val_loss: 0.1182 - val_accuracy: 0.9715\n",
            "Epoch 8/10\n",
            "573/573 [==============================] - 19s 34ms/step - loss: 0.0166 - accuracy: 0.9962 - val_loss: 0.1094 - val_accuracy: 0.9709\n",
            "Epoch 9/10\n",
            "573/573 [==============================] - 19s 32ms/step - loss: 0.0141 - accuracy: 0.9965 - val_loss: 0.1118 - val_accuracy: 0.9726\n",
            "Epoch 10/10\n",
            "573/573 [==============================] - 19s 33ms/step - loss: 0.0104 - accuracy: 0.9975 - val_loss: 0.1833 - val_accuracy: 0.9721\n",
            "Training Complete\n"
          ]
        }
      ]
    },
    {
      "cell_type": "code",
      "source": [
        "test_loss3, test_acc3 = model3.evaluate(X_test, y_test)\n",
        "y_hat3 = model3.predict(X_test)\n",
        "\n",
        "print('Test Loss:', test_loss3)\n",
        "print('Test Accuracy:', test_acc3)"
      ],
      "metadata": {
        "colab": {
          "base_uri": "https://localhost:8080/"
        },
        "id": "bv_UGh6EhvDi",
        "outputId": "d5b08377-7afd-4ae1-f7c4-13642cf5c6ea"
      },
      "execution_count": null,
      "outputs": [
        {
          "output_type": "stream",
          "name": "stdout",
          "text": [
            "448/448 [==============================] - 5s 10ms/step - loss: 0.1833 - accuracy: 0.9721\n",
            "448/448 [==============================] - 5s 8ms/step\n",
            "Test Loss: 0.18330946564674377\n",
            "Test Accuracy: 0.9721134901046753\n"
          ]
        }
      ]
    },
    {
      "cell_type": "code",
      "source": [
        "## print classification report for RNN - LSTM\n",
        "print(classification_report(y_test, np.where(y_hat3 >= 0.5, 1, 0)))"
      ],
      "metadata": {
        "colab": {
          "base_uri": "https://localhost:8080/"
        },
        "id": "q64lt9ifh4nc",
        "outputId": "28d1ed2c-d01c-4066-fd2e-2afe7197a936"
      },
      "execution_count": null,
      "outputs": [
        {
          "output_type": "stream",
          "name": "stdout",
          "text": [
            "              precision    recall  f1-score   support\n",
            "\n",
            "           0       0.99      0.96      0.97      7006\n",
            "           1       0.96      0.99      0.97      7302\n",
            "\n",
            "    accuracy                           0.97     14308\n",
            "   macro avg       0.97      0.97      0.97     14308\n",
            "weighted avg       0.97      0.97      0.97     14308\n",
            "\n"
          ]
        }
      ]
    },
    {
      "cell_type": "code",
      "source": [
        "# Visualize the results:\n",
        "\n",
        "plt.plot(history.history['accuracy'])\n",
        "plt.plot(history.history['val_accuracy'])\n",
        "plt.title('Model accuracy')\n",
        "plt.ylabel('Accuracy')\n",
        "plt.xlabel('Epoch')\n",
        "plt.legend(['Train', 'Test'], loc='upper left')\n",
        "plt.show()\n",
        "\n",
        "plt.plot(history.history['loss'])\n",
        "plt.plot(history.history['val_loss'])\n",
        "plt.title('Model loss')\n",
        "plt.ylabel('Loss')\n",
        "plt.xlabel('Epoch')\n",
        "plt.legend(['Train', 'Test'], loc='upper right')\n",
        "plt.show()"
      ],
      "metadata": {
        "colab": {
          "base_uri": "https://localhost:8080/",
          "height": 927
        },
        "id": "yJzUY9wbe3yZ",
        "outputId": "7bbf68ca-d7c9-404f-c6a1-dee4c9106243"
      },
      "execution_count": null,
      "outputs": [
        {
          "output_type": "display_data",
          "data": {
            "text/plain": [
              "<Figure size 640x480 with 1 Axes>"
            ],
            "image/png": "[encoded data removed]"
          },
          "metadata": {}
        },
        {
          "output_type": "display_data",
          "data": {
            "text/plain": [
              "<Figure size 640x480 with 1 Axes>"
            ],
            "image/png": "[encoded data removed]"
          },
          "metadata": {}
        }
      ]
    }
  ]
}